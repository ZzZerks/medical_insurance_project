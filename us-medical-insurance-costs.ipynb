{
 "cells": [
  {
   "cell_type": "markdown",
   "metadata": {},
   "source": [
    "# U.S. Medical Insurance Costs"
   ]
  },
  {
   "cell_type": "code",
   "execution_count": 204,
   "metadata": {},
   "outputs": [],
   "source": [
    "import csv "
   ]
  },
  {
   "cell_type": "code",
   "execution_count": 205,
   "metadata": {},
   "outputs": [],
   "source": [
    "number_of_clients = 0\n",
    "females = 0\n",
    "males = 0\n",
    "smokers = 0\n",
    "average_charge = 0\n",
    "average_female = 0\n",
    "average_female_charge = 0\n",
    "average_male = 0\n",
    "average_male_charge = 0\n",
    "total_charge = 0\n",
    "region = {'southeast': 0, 'southwest': 0, 'northeast': 0, 'northwest': 0}"
   ]
  },
  {
   "cell_type": "code",
   "execution_count": 206,
   "metadata": {},
   "outputs": [],
   "source": [
    "temp_f_age = 0\n",
    "temp_m_age = 0\n",
    "temp_total_m_charge = 0\n",
    "temp_total_f_charge = 0"
   ]
  },
  {
   "cell_type": "code",
   "execution_count": 207,
   "metadata": {},
   "outputs": [],
   "source": [
    "with open('insurance.csv') as insurance_file:\n",
    "    insurance_data = csv.DictReader(insurance_file)\n",
    "\n",
    "    # temp_smoker_f = 0\n",
    "    # temp_smoker_m = 0\n",
    "    for row in insurance_data:\n",
    "\n",
    "        number_of_clients += 1\n",
    "        if row['sex'] == 'male':\n",
    "            males += 1\n",
    "            temp_m_age += int(row['age'])\n",
    "            temp_total_m_charge += float(row['charges'])\n",
    "            # if row['smoker'] == 'yes':\n",
    "            #     temp_smoker_m += 1\n",
    "        elif row['sex'] == 'female':\n",
    "            females += 1\n",
    "            temp_f_age += int(row['age'])\n",
    "            temp_total_f_charge += float(row['charges'])\n",
    "            # if row['smoker'] == 'yes':\n",
    "            #     temp_smoker_f += 1\n",
    "            \n",
    "        if row['smoker'] == 'yes':\n",
    "            smokers += 1\n",
    "        total_charge += float(row['charges'])\n",
    "        \n",
    "        if row['region'] == 'southeast':\n",
    "            region['southeast'] += 1\n",
    "        if row['region'] == 'southwest':\n",
    "            region['southwest'] += 1\n",
    "        if row['region'] == 'northeast':\n",
    "            region['northeast'] += 1\n",
    "        if row['region'] == 'northwest':\n",
    "            region['northwest'] += 1\n",
    "        \n",
    "       \n",
    "            "
   ]
  },
  {
   "cell_type": "code",
   "execution_count": 208,
   "metadata": {},
   "outputs": [],
   "source": [
    "average_female = temp_f_age/females\n",
    "average_male = temp_m_age/females\n",
    "average_charge = total_charge/number_of_clients\n",
    "average_male_charge = temp_total_m_charge/males\n",
    "average_female_charge = temp_total_f_charge/females"
   ]
  },
  {
   "cell_type": "code",
   "execution_count": 209,
   "metadata": {},
   "outputs": [
    {
     "name": "stdout",
     "output_type": "stream",
     "text": [
      "Total clients: 1338\n",
      "Total females: 662\n",
      "Average females age: 40\n",
      "Average insurance cost for females: 12569.58\n",
      "Total males: 676\n",
      "Average males age: 40\n",
      "Average insurance cost for females: 13956.75\n",
      "Total smokers: 274\n",
      "Average cost: 13270.42\n",
      "Most clients are from the Southwest\n"
     ]
    }
   ],
   "source": [
    "print(\"Total clients: \" + str(number_of_clients))\n",
    "print(\"Total females: \" + str(females))\n",
    "print(\"Average females age: \" + str(round(average_female)))\n",
    "print(\"Average insurance cost for females: \" + str(round(average_female_charge,2)))\n",
    "print(\"Total males: \" + str(males))\n",
    "print(\"Average males age: \" + str(round(average_male)))\n",
    "print(\"Average insurance cost for females: \" + str(round(average_male_charge,2)))\n",
    "print(\"Total smokers: \" + str(smokers))\n",
    "print(\"Average cost: \"+ str(round(average_charge, 2)))\n",
    "print(\"Most clients are from the \" + max(region).title())"
   ]
  }
 ],
 "metadata": {
  "kernelspec": {
   "display_name": "Python 3",
   "language": "python",
   "name": "python3"
  },
  "language_info": {
   "codemirror_mode": {
    "name": "ipython",
    "version": 3
   },
   "file_extension": ".py",
   "mimetype": "text/x-python",
   "name": "python",
   "nbconvert_exporter": "python",
   "pygments_lexer": "ipython3",
   "version": "3.11.2"
  }
 },
 "nbformat": 4,
 "nbformat_minor": 4
}
